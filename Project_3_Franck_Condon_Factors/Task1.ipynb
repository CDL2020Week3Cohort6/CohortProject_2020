{
 "cells": [
  {
   "cell_type": "markdown",
   "metadata": {},
   "source": [
    "# Task 1\n",
    "\n",
    "A template code for calculating FCFs for $H_2$ - $H_2^+$ using the harmonic oscillator approximation. \n",
    "\n",
    "Imports:"
   ]
  },
  {
   "cell_type": "code",
   "execution_count": 1,
   "metadata": {},
   "outputs": [],
   "source": [
    "import numpy as np\n",
    "import matplotlib.pyplot as plt\n",
    "\n",
    "from FCF_helper import FCFSpec"
   ]
  },
  {
   "cell_type": "markdown",
   "metadata": {},
   "source": [
    "Initialize the `FCFSpec` object. Modify `n_0_max` and `n_p_max` (the maximum vibrational states of $H_2$ and $H_2^+$ that we'll look at calculating FCFs for) in order to get 10 transitions starting from n_0=0."
   ]
  },
  {
   "cell_type": "code",
   "execution_count": 2,
   "metadata": {},
   "outputs": [],
   "source": [
    "n_0_max = 0\n",
    "n_p_max = 10\n",
    "\n",
    "fcfspec = FCFSpec(n_0_max, n_p_max)"
   ]
  },
  {
   "cell_type": "markdown",
   "metadata": {},
   "source": [
    "Calculate all the FCFs and print the results."
   ]
  },
  {
   "cell_type": "code",
   "execution_count": 3,
   "metadata": {},
   "outputs": [
    {
     "name": "stdout",
     "output_type": "stream",
     "text": [
      "n_0\t\t n_p\t\t FCF\t\t energy_diff\n",
      "[[0.00000000e+00 0.00000000e+00 1.00000000e+00 1.52970404e+01]\n",
      " [0.00000000e+00 1.00000000e+00 2.95139079e+00 1.55849317e+01]\n",
      " [0.00000000e+00 2.00000000e+00 3.49048846e+00 1.58728230e+01]\n",
      " [0.00000000e+00 3.00000000e+00 2.01446220e+00 1.61607143e+01]\n",
      " [0.00000000e+00 4.00000000e+00 5.16711333e-01 1.64486056e+01]\n",
      " [0.00000000e+00 5.00000000e+00 2.55047939e-02 1.67364969e+01]\n",
      " [0.00000000e+00 6.00000000e+00 8.26500159e-03 1.70243882e+01]\n",
      " [0.00000000e+00 7.00000000e+00 1.09734335e-02 1.73122795e+01]\n",
      " [0.00000000e+00 8.00000000e+00 1.39346082e-03 1.76001708e+01]\n",
      " [0.00000000e+00 9.00000000e+00 8.39894919e-05 1.78880621e+01]\n",
      " [0.00000000e+00 1.00000000e+01 2.53763959e-04 1.81759534e+01]]\n"
     ]
    }
   ],
   "source": [
    "spectrum = fcfspec.spectrum_analysis()\n",
    "print(\"n_0\\t\\t n_p\\t\\t FCF\\t\\t energy_diff\")\n",
    "print(spectrum)"
   ]
  },
  {
   "cell_type": "code",
   "execution_count": 4,
   "metadata": {},
   "outputs": [
    {
     "data": {
      "text/plain": [
       "<matplotlib.collections.PathCollection at 0x147581ae4e0>"
      ]
     },
     "execution_count": 4,
     "metadata": {},
     "output_type": "execute_result"
    },
    {
     "data": {
      "image/png": "[encoded data removed]",
      "text/plain": [
       "<Figure size 432x288 with 1 Axes>"
      ]
     },
     "metadata": {
      "needs_background": "light"
     },
     "output_type": "display_data"
    }
   ],
   "source": [
    "x= spectrum[:,2] #FCF values\n",
    "y= spectrum[:,3] #energy diff in eV\n",
    "#print(x)\n",
    "plt.plot(y,x)\n",
    "plt.scatter(y,x)"
   ]
  },
  {
   "cell_type": "code",
   "execution_count": null,
   "metadata": {},
   "outputs": [],
   "source": []
  }
 ],
 "metadata": {
  "kernelspec": {
   "display_name": "Python 3",
   "language": "python",
   "name": "python3"
  },
  "language_info": {
   "codemirror_mode": {
    "name": "ipython",
    "version": 3
   },
   "file_extension": ".py",
   "mimetype": "text/x-python",
   "name": "python",
   "nbconvert_exporter": "python",
   "pygments_lexer": "ipython3",
   "version": "3.7.3"
  }
 },
 "nbformat": 4,
 "nbformat_minor": 2
}
