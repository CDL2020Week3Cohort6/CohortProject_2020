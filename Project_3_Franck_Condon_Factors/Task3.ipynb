{
 "cells": [
  {
   "cell_type": "markdown",
   "metadata": {},
   "source": [
    "# Task 3: Simulation of a GBS experiment"
   ]
  },
  {
   "cell_type": "markdown",
   "metadata": {},
   "source": [
    "A template code for calculating a vibronic spectrum of $V_3$ using a sampling method, simulating a Gaussian Boson Sampling experiment."
   ]
  },
  {
   "cell_type": "markdown",
   "metadata": {},
   "source": [
    "Input Parameters.\n",
    "\n",
    "Note: \"Strawberry Fields\" is a code created by Xanadu and is the driver behind GBS. This can be installed using **pip**, but see install instructions in the <a href=\"https://github.com/CDL-Quantum/CohortProject_2020/blob/master/Project_3_Franck_Condon_Factors/Project3_LandingPage.pdf\"> Project 3 Landing Page</a>. Plotly is a nice plotting code, but is not necessary if you wish to use one of your choice."
   ]
  },
  {
   "cell_type": "code",
   "execution_count": 8,
   "metadata": {},
   "outputs": [],
   "source": [
    "from sys import argv\n",
    "from strawberryfields.apps import vibronic, data, sample, plot\n",
    "import numpy as np\n",
    "from plotly import offline"
   ]
  },
  {
   "cell_type": "markdown",
   "metadata": {},
   "source": [
    "Variables.\n",
    "\n",
    "Note: The **inputfile** for $V_3$ is what you will have to create to run this script."
   ]
  },
  {
   "cell_type": "code",
   "execution_count": 19,
   "metadata": {},
   "outputs": [
    {
     "name": "stdout",
     "output_type": "stream",
     "text": [
      "3\n"
     ]
    }
   ],
   "source": [
    "inputfile = open('Task2Code/input_for_exercise3.txt', \"r\") # The name of the input file for the last task\n",
    "\n",
    "N=int(inputfile.readline())     #Number of Atoms\n",
    "nmodes=3*N-6                    #Number of Modes\n",
    "\n",
    "w=np.zeros(nmodes,float)        #vib. frequencies of ground electronic state (1/cm)\n",
    "wp=np.zeros(nmodes,float)       #vib. frequencies of excited electronic state (1/cm)\n",
    "Ud=np.zeros((nmodes,nmodes),float)   #Duschinsky Matrix (unitless)\n",
    "delta=np.zeros(nmodes,float)    #Displacement Vector (unitless)\n",
    "\n",
    "T = 500  # temperature\n",
    "\n",
    "print(N)"
   ]
  },
  {
   "cell_type": "markdown",
   "metadata": {},
   "source": [
    "Read in Parameters.\n",
    "\n",
    "Note: This is a suggested format for reading the **inputfile** that you create. However, feel free to modify it for your convenience."
   ]
  },
  {
   "cell_type": "code",
   "execution_count": 20,
   "metadata": {},
   "outputs": [],
   "source": [
    "for i in range(nmodes):\n",
    "    w[i]=float(inputfile.readline())\n",
    "for i in range(nmodes):\n",
    "    wp[i]=float(inputfile.readline())\n",
    "for i in range(nmodes):\n",
    "    for j in range(nmodes):\n",
    "        Ud[i,j]=float(inputfile.readline())\n",
    "\n",
    "for i in range(nmodes):\n",
    "    delta[i]=float(inputfile.readline())"
   ]
  },
  {
   "cell_type": "code",
   "execution_count": 34,
   "metadata": {},
   "outputs": [
    {
     "name": "stdout",
     "output_type": "stream",
     "text": [
      "[255.  255.  420.8]\n",
      "[261.9 263.3 421.8]\n"
     ]
    }
   ],
   "source": [
    "print(w)\n",
    "print(wp)"
   ]
  },
  {
   "cell_type": "code",
   "execution_count": 21,
   "metadata": {},
   "outputs": [
    {
     "name": "stdout",
     "output_type": "stream",
     "text": [
      "[-2.05330e-04 -7.33908e-04 -1.08223e+00]\n"
     ]
    }
   ],
   "source": [
    "print(delta)"
   ]
  },
  {
   "cell_type": "markdown",
   "metadata": {},
   "source": [
    "Use \"Strawberry Fields\" to calculate GBS Parameters based on the frequencies, Duschinsky matrix, and temperature that was provided as input."
   ]
  },
  {
   "cell_type": "code",
   "execution_count": 22,
   "metadata": {},
   "outputs": [],
   "source": [
    "t, U1, r, U2, alpha = vibronic.gbs_params(w, wp, Ud, delta, T)"
   ]
  },
  {
   "cell_type": "markdown",
   "metadata": {},
   "source": [
    "Generate Samples and Calculate Energies of Samples.\n",
    "\n",
    "Note: The number of samples may be changed if the spectrum is not converged."
   ]
  },
  {
   "cell_type": "code",
   "execution_count": 32,
   "metadata": {},
   "outputs": [],
   "source": [
    "#nr_samples = 20000\n",
    "nr_samples = 10\n",
    "s = sample.vibronic(t, U1, r, U2, alpha, nr_samples)\n",
    "e = vibronic.energies(s, w, wp)"
   ]
  },
  {
   "cell_type": "markdown",
   "metadata": {},
   "source": [
    "Plot the Spectrum\n",
    "\n",
    "Note: You may choose your favourite plotting program if you wish."
   ]
  },
  {
   "cell_type": "code",
   "execution_count": 35,
   "metadata": {},
   "outputs": [
    {
     "data": {
      "text/plain": [
       "'spectrum_10.html'"
      ]
     },
     "execution_count": 35,
     "metadata": {},
     "output_type": "execute_result"
    }
   ],
   "source": [
    "spectrum = plot.spectrum(e, xmin=-300, xmax=2000)\n",
    "offline.plot(spectrum, filename=\"spectrum_{}.html\".format(nr_samples))"
   ]
  },
  {
   "cell_type": "code",
   "execution_count": null,
   "metadata": {},
   "outputs": [],
   "source": []
  }
 ],
 "metadata": {
  "kernelspec": {
   "display_name": "Python 3",
   "language": "python",
   "name": "python3"
  },
  "language_info": {
   "codemirror_mode": {
    "name": "ipython",
    "version": 3
   },
   "file_extension": ".py",
   "mimetype": "text/x-python",
   "name": "python",
   "nbconvert_exporter": "python",
   "pygments_lexer": "ipython3",
   "version": "3.7.3"
  }
 },
 "nbformat": 4,
 "nbformat_minor": 4
}
